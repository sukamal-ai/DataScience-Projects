{
 "cells": [
  {
   "cell_type": "code",
   "execution_count": 70,
   "metadata": {},
   "outputs": [],
   "source": [
    "# Importing the required libraries\n",
    "import numpy as np\n",
    "import pandas as pd\n",
    "import matplotlib.pyplot as plt\n",
    "import seaborn as sns"
   ]
  },
  {
   "cell_type": "code",
   "execution_count": 106,
   "metadata": {},
   "outputs": [],
   "source": [
    "sns.set_style(\"darkgrid\")"
   ]
  },
  {
   "cell_type": "code",
   "execution_count": 107,
   "metadata": {},
   "outputs": [],
   "source": [
    "# Reading the data\n",
    "df_ipl = pd.read_csv(\"ipl.csv\")"
   ]
  },
  {
   "cell_type": "code",
   "execution_count": 108,
   "metadata": {},
   "outputs": [
    {
     "data": {
      "text/html": [
       "<div>\n",
       "<style scoped>\n",
       "    .dataframe tbody tr th:only-of-type {\n",
       "        vertical-align: middle;\n",
       "    }\n",
       "\n",
       "    .dataframe tbody tr th {\n",
       "        vertical-align: top;\n",
       "    }\n",
       "\n",
       "    .dataframe thead th {\n",
       "        text-align: right;\n",
       "    }\n",
       "</style>\n",
       "<table border=\"1\" class=\"dataframe\">\n",
       "  <thead>\n",
       "    <tr style=\"text-align: right;\">\n",
       "      <th></th>\n",
       "      <th>match_code</th>\n",
       "      <th>date</th>\n",
       "      <th>city</th>\n",
       "      <th>venue</th>\n",
       "      <th>team1</th>\n",
       "      <th>team2</th>\n",
       "      <th>toss_winner</th>\n",
       "      <th>toss_decision</th>\n",
       "      <th>winner</th>\n",
       "      <th>win_type</th>\n",
       "      <th>...</th>\n",
       "      <th>batsman</th>\n",
       "      <th>non_striker</th>\n",
       "      <th>bowler</th>\n",
       "      <th>runs</th>\n",
       "      <th>extras</th>\n",
       "      <th>total</th>\n",
       "      <th>extras_type</th>\n",
       "      <th>player_out</th>\n",
       "      <th>wicket_kind</th>\n",
       "      <th>wicket_fielders</th>\n",
       "    </tr>\n",
       "  </thead>\n",
       "  <tbody>\n",
       "    <tr>\n",
       "      <td>0</td>\n",
       "      <td>392203</td>\n",
       "      <td>2009-05-01</td>\n",
       "      <td>East London</td>\n",
       "      <td>Buffalo Park</td>\n",
       "      <td>Kolkata Knight Riders</td>\n",
       "      <td>Mumbai Indians</td>\n",
       "      <td>Mumbai Indians</td>\n",
       "      <td>bat</td>\n",
       "      <td>Mumbai Indians</td>\n",
       "      <td>runs</td>\n",
       "      <td>...</td>\n",
       "      <td>ST Jayasuriya</td>\n",
       "      <td>SR Tendulkar</td>\n",
       "      <td>I Sharma</td>\n",
       "      <td>0</td>\n",
       "      <td>1</td>\n",
       "      <td>1</td>\n",
       "      <td>wides</td>\n",
       "      <td>NaN</td>\n",
       "      <td>NaN</td>\n",
       "      <td>NaN</td>\n",
       "    </tr>\n",
       "    <tr>\n",
       "      <td>1</td>\n",
       "      <td>392203</td>\n",
       "      <td>2009-05-01</td>\n",
       "      <td>East London</td>\n",
       "      <td>Buffalo Park</td>\n",
       "      <td>Kolkata Knight Riders</td>\n",
       "      <td>Mumbai Indians</td>\n",
       "      <td>Mumbai Indians</td>\n",
       "      <td>bat</td>\n",
       "      <td>Mumbai Indians</td>\n",
       "      <td>runs</td>\n",
       "      <td>...</td>\n",
       "      <td>ST Jayasuriya</td>\n",
       "      <td>SR Tendulkar</td>\n",
       "      <td>I Sharma</td>\n",
       "      <td>1</td>\n",
       "      <td>0</td>\n",
       "      <td>1</td>\n",
       "      <td>NaN</td>\n",
       "      <td>NaN</td>\n",
       "      <td>NaN</td>\n",
       "      <td>NaN</td>\n",
       "    </tr>\n",
       "    <tr>\n",
       "      <td>2</td>\n",
       "      <td>392203</td>\n",
       "      <td>2009-05-01</td>\n",
       "      <td>East London</td>\n",
       "      <td>Buffalo Park</td>\n",
       "      <td>Kolkata Knight Riders</td>\n",
       "      <td>Mumbai Indians</td>\n",
       "      <td>Mumbai Indians</td>\n",
       "      <td>bat</td>\n",
       "      <td>Mumbai Indians</td>\n",
       "      <td>runs</td>\n",
       "      <td>...</td>\n",
       "      <td>SR Tendulkar</td>\n",
       "      <td>ST Jayasuriya</td>\n",
       "      <td>I Sharma</td>\n",
       "      <td>0</td>\n",
       "      <td>1</td>\n",
       "      <td>1</td>\n",
       "      <td>wides</td>\n",
       "      <td>NaN</td>\n",
       "      <td>NaN</td>\n",
       "      <td>NaN</td>\n",
       "    </tr>\n",
       "    <tr>\n",
       "      <td>3</td>\n",
       "      <td>392203</td>\n",
       "      <td>2009-05-01</td>\n",
       "      <td>East London</td>\n",
       "      <td>Buffalo Park</td>\n",
       "      <td>Kolkata Knight Riders</td>\n",
       "      <td>Mumbai Indians</td>\n",
       "      <td>Mumbai Indians</td>\n",
       "      <td>bat</td>\n",
       "      <td>Mumbai Indians</td>\n",
       "      <td>runs</td>\n",
       "      <td>...</td>\n",
       "      <td>SR Tendulkar</td>\n",
       "      <td>ST Jayasuriya</td>\n",
       "      <td>I Sharma</td>\n",
       "      <td>0</td>\n",
       "      <td>0</td>\n",
       "      <td>0</td>\n",
       "      <td>NaN</td>\n",
       "      <td>NaN</td>\n",
       "      <td>NaN</td>\n",
       "      <td>NaN</td>\n",
       "    </tr>\n",
       "    <tr>\n",
       "      <td>4</td>\n",
       "      <td>392203</td>\n",
       "      <td>2009-05-01</td>\n",
       "      <td>East London</td>\n",
       "      <td>Buffalo Park</td>\n",
       "      <td>Kolkata Knight Riders</td>\n",
       "      <td>Mumbai Indians</td>\n",
       "      <td>Mumbai Indians</td>\n",
       "      <td>bat</td>\n",
       "      <td>Mumbai Indians</td>\n",
       "      <td>runs</td>\n",
       "      <td>...</td>\n",
       "      <td>SR Tendulkar</td>\n",
       "      <td>ST Jayasuriya</td>\n",
       "      <td>I Sharma</td>\n",
       "      <td>2</td>\n",
       "      <td>0</td>\n",
       "      <td>2</td>\n",
       "      <td>NaN</td>\n",
       "      <td>NaN</td>\n",
       "      <td>NaN</td>\n",
       "      <td>NaN</td>\n",
       "    </tr>\n",
       "  </tbody>\n",
       "</table>\n",
       "<p>5 rows × 24 columns</p>\n",
       "</div>"
      ],
      "text/plain": [
       "   match_code        date         city         venue                  team1  \\\n",
       "0      392203  2009-05-01  East London  Buffalo Park  Kolkata Knight Riders   \n",
       "1      392203  2009-05-01  East London  Buffalo Park  Kolkata Knight Riders   \n",
       "2      392203  2009-05-01  East London  Buffalo Park  Kolkata Knight Riders   \n",
       "3      392203  2009-05-01  East London  Buffalo Park  Kolkata Knight Riders   \n",
       "4      392203  2009-05-01  East London  Buffalo Park  Kolkata Knight Riders   \n",
       "\n",
       "            team2     toss_winner toss_decision          winner win_type  ...  \\\n",
       "0  Mumbai Indians  Mumbai Indians           bat  Mumbai Indians     runs  ...   \n",
       "1  Mumbai Indians  Mumbai Indians           bat  Mumbai Indians     runs  ...   \n",
       "2  Mumbai Indians  Mumbai Indians           bat  Mumbai Indians     runs  ...   \n",
       "3  Mumbai Indians  Mumbai Indians           bat  Mumbai Indians     runs  ...   \n",
       "4  Mumbai Indians  Mumbai Indians           bat  Mumbai Indians     runs  ...   \n",
       "\n",
       "         batsman    non_striker    bowler runs extras total extras_type  \\\n",
       "0  ST Jayasuriya   SR Tendulkar  I Sharma    0      1     1       wides   \n",
       "1  ST Jayasuriya   SR Tendulkar  I Sharma    1      0     1         NaN   \n",
       "2   SR Tendulkar  ST Jayasuriya  I Sharma    0      1     1       wides   \n",
       "3   SR Tendulkar  ST Jayasuriya  I Sharma    0      0     0         NaN   \n",
       "4   SR Tendulkar  ST Jayasuriya  I Sharma    2      0     2         NaN   \n",
       "\n",
       "   player_out  wicket_kind  wicket_fielders  \n",
       "0         NaN          NaN              NaN  \n",
       "1         NaN          NaN              NaN  \n",
       "2         NaN          NaN              NaN  \n",
       "3         NaN          NaN              NaN  \n",
       "4         NaN          NaN              NaN  \n",
       "\n",
       "[5 rows x 24 columns]"
      ]
     },
     "execution_count": 108,
     "metadata": {},
     "output_type": "execute_result"
    }
   ],
   "source": [
    "df_ipl.head()"
   ]
  },
  {
   "cell_type": "code",
   "execution_count": 109,
   "metadata": {},
   "outputs": [
    {
     "data": {
      "text/plain": [
       "['match_code',\n",
       " 'date',\n",
       " 'city',\n",
       " 'venue',\n",
       " 'team1',\n",
       " 'team2',\n",
       " 'toss_winner',\n",
       " 'toss_decision',\n",
       " 'winner',\n",
       " 'win_type',\n",
       " 'win_margin',\n",
       " 'inning',\n",
       " 'delivery',\n",
       " 'batting_team',\n",
       " 'batsman',\n",
       " 'non_striker',\n",
       " 'bowler',\n",
       " 'runs',\n",
       " 'extras',\n",
       " 'total',\n",
       " 'extras_type',\n",
       " 'player_out',\n",
       " 'wicket_kind',\n",
       " 'wicket_fielders']"
      ]
     },
     "execution_count": 109,
     "metadata": {},
     "output_type": "execute_result"
    }
   ],
   "source": [
    "# Listing all columns\n",
    "df_ipl.columns.tolist()"
   ]
  },
  {
   "cell_type": "code",
   "execution_count": 110,
   "metadata": {},
   "outputs": [
    {
     "data": {
      "text/plain": [
       "(136522, 24)"
      ]
     },
     "execution_count": 110,
     "metadata": {},
     "output_type": "execute_result"
    }
   ],
   "source": [
    "# No of rows and columns\n",
    "df_ipl.shape"
   ]
  },
  {
   "cell_type": "code",
   "execution_count": 111,
   "metadata": {},
   "outputs": [
    {
     "data": {
      "text/plain": [
       "match_code              0\n",
       "date                    0\n",
       "city                    0\n",
       "venue                   0\n",
       "team1                   0\n",
       "team2                   0\n",
       "toss_winner             0\n",
       "toss_decision           0\n",
       "winner               1818\n",
       "win_type             1818\n",
       "win_margin           1818\n",
       "inning                  0\n",
       "delivery                0\n",
       "batting_team            0\n",
       "batsman                 0\n",
       "non_striker             0\n",
       "bowler                  0\n",
       "runs                    0\n",
       "extras                  0\n",
       "total                   0\n",
       "extras_type        129064\n",
       "player_out         129807\n",
       "wicket_kind        129807\n",
       "wicket_fielders    131657\n",
       "dtype: int64"
      ]
     },
     "execution_count": 111,
     "metadata": {},
     "output_type": "execute_result"
    }
   ],
   "source": [
    "# Checking null values\n",
    "df_ipl.isnull().sum()"
   ]
  },
  {
   "cell_type": "markdown",
   "metadata": {},
   "source": [
    "### Calculate the unique no. of matches in the provided dataset "
   ]
  },
  {
   "cell_type": "code",
   "execution_count": 112,
   "metadata": {},
   "outputs": [
    {
     "data": {
      "text/plain": [
       "577"
      ]
     },
     "execution_count": 112,
     "metadata": {},
     "output_type": "execute_result"
    }
   ],
   "source": [
    "len(df_ipl[\"match_code\"].unique())"
   ]
  },
  {
   "cell_type": "markdown",
   "metadata": {},
   "source": [
    "### Find the set of all unique teams that played in the matches in the data set."
   ]
  },
  {
   "cell_type": "code",
   "execution_count": 146,
   "metadata": {},
   "outputs": [
    {
     "data": {
      "text/plain": [
       "['Mumbai Indians',\n",
       " 'Kolkata Knight Riders',\n",
       " 'Deccan Chargers',\n",
       " 'Chennai Super Kings',\n",
       " 'Rajasthan Royals',\n",
       " 'Pune Warriors',\n",
       " 'Kings XI Punjab',\n",
       " 'Delhi Daredevils',\n",
       " 'Royal Challengers Bangalore',\n",
       " 'Sunrisers Hyderabad',\n",
       " 'Kochi Tuskers Kerala',\n",
       " 'Gujarat Lions',\n",
       " 'Rising Pune Supergiants']"
      ]
     },
     "execution_count": 146,
     "metadata": {},
     "output_type": "execute_result"
    }
   ],
   "source": [
    "teams = df_ipl[\"batting_team\"].unique().tolist()\n",
    "teams"
   ]
  },
  {
   "cell_type": "markdown",
   "metadata": {},
   "source": [
    "### IPL seasons are held every year now let's look at our data and extract how many seasons were recorded."
   ]
  },
  {
   "cell_type": "code",
   "execution_count": 115,
   "metadata": {},
   "outputs": [],
   "source": [
    "df_ipl[\"season\"] = pd.to_datetime(df_ipl[\"date\"]).dt.year"
   ]
  },
  {
   "cell_type": "code",
   "execution_count": 116,
   "metadata": {},
   "outputs": [
    {
     "data": {
      "text/plain": [
       "[2009, 2014, 2011, 2008, 2015, 2010, 2013, 2012, 2016]"
      ]
     },
     "execution_count": 116,
     "metadata": {},
     "output_type": "execute_result"
    }
   ],
   "source": [
    "df_ipl[\"season\"].unique().tolist()"
   ]
  },
  {
   "cell_type": "markdown",
   "metadata": {},
   "source": [
    "### Number of times each team have made 200+ runs"
   ]
  },
  {
   "cell_type": "code",
   "execution_count": 159,
   "metadata": {},
   "outputs": [
    {
     "data": {
      "image/png": "[encoded data removed]",
      "text/plain": [
       "<Figure size 720x360 with 1 Axes>"
      ]
     },
     "metadata": {},
     "output_type": "display_data"
    }
   ],
   "source": [
    "data = []\n",
    "for team in teams:\n",
    "    team_data = df_ipl[df_ipl[\"batting_team\"] == team]\n",
    "    team_runs = team_data.groupby(\"match_code\")[\"total\"].sum()\n",
    "    team_runs = team_runs[team_runs >= 200]\n",
    "    data.append(len(team_runs))\n",
    "    \n",
    "df_200 = pd.DataFrame({\"team\":teams,\"200+\":data}).sort_values(by=\"200+\",ascending=False)\n",
    "plot = sns.catplot(data=df_200,y=\"team\",x=\"200+\",kind=\"bar\",color=\"grey\")\n",
    "plot.fig.set_figheight(5)\n",
    "plot.fig.set_figwidth(10)"
   ]
  },
  {
   "cell_type": "markdown",
   "metadata": {},
   "source": [
    "### What are the chances that a team scoring runs above 200  in their 1st inning is chased by the opposition in 2nd inning."
   ]
  },
  {
   "cell_type": "code",
   "execution_count": 120,
   "metadata": {},
   "outputs": [],
   "source": [
    "runs_df = df_ipl.groupby([\"match_code\",\"inning\"])[\"total\"].sum().reset_index()"
   ]
  },
  {
   "cell_type": "code",
   "execution_count": 121,
   "metadata": {},
   "outputs": [
    {
     "data": {
      "text/html": [
       "<div>\n",
       "<style scoped>\n",
       "    .dataframe tbody tr th:only-of-type {\n",
       "        vertical-align: middle;\n",
       "    }\n",
       "\n",
       "    .dataframe tbody tr th {\n",
       "        vertical-align: top;\n",
       "    }\n",
       "\n",
       "    .dataframe thead th {\n",
       "        text-align: right;\n",
       "    }\n",
       "</style>\n",
       "<table border=\"1\" class=\"dataframe\">\n",
       "  <thead>\n",
       "    <tr style=\"text-align: right;\">\n",
       "      <th></th>\n",
       "      <th>match_code</th>\n",
       "      <th>inning</th>\n",
       "      <th>total</th>\n",
       "    </tr>\n",
       "  </thead>\n",
       "  <tbody>\n",
       "    <tr>\n",
       "      <td>0</td>\n",
       "      <td>335982</td>\n",
       "      <td>1</td>\n",
       "      <td>222</td>\n",
       "    </tr>\n",
       "    <tr>\n",
       "      <td>1</td>\n",
       "      <td>335982</td>\n",
       "      <td>2</td>\n",
       "      <td>82</td>\n",
       "    </tr>\n",
       "    <tr>\n",
       "      <td>2</td>\n",
       "      <td>335983</td>\n",
       "      <td>1</td>\n",
       "      <td>240</td>\n",
       "    </tr>\n",
       "    <tr>\n",
       "      <td>3</td>\n",
       "      <td>335983</td>\n",
       "      <td>2</td>\n",
       "      <td>207</td>\n",
       "    </tr>\n",
       "    <tr>\n",
       "      <td>4</td>\n",
       "      <td>335984</td>\n",
       "      <td>1</td>\n",
       "      <td>129</td>\n",
       "    </tr>\n",
       "  </tbody>\n",
       "</table>\n",
       "</div>"
      ],
      "text/plain": [
       "   match_code  inning  total\n",
       "0      335982       1    222\n",
       "1      335982       2     82\n",
       "2      335983       1    240\n",
       "3      335983       2    207\n",
       "4      335984       1    129"
      ]
     },
     "execution_count": 121,
     "metadata": {},
     "output_type": "execute_result"
    }
   ],
   "source": [
    "runs_df.head()"
   ]
  },
  {
   "cell_type": "code",
   "execution_count": 122,
   "metadata": {},
   "outputs": [],
   "source": [
    "inning1 = runs_df[(runs_df[\"inning\"] == 1) & (runs_df[\"total\"] >= 200)]"
   ]
  },
  {
   "cell_type": "code",
   "execution_count": 123,
   "metadata": {},
   "outputs": [
    {
     "data": {
      "text/html": [
       "<div>\n",
       "<style scoped>\n",
       "    .dataframe tbody tr th:only-of-type {\n",
       "        vertical-align: middle;\n",
       "    }\n",
       "\n",
       "    .dataframe tbody tr th {\n",
       "        vertical-align: top;\n",
       "    }\n",
       "\n",
       "    .dataframe thead th {\n",
       "        text-align: right;\n",
       "    }\n",
       "</style>\n",
       "<table border=\"1\" class=\"dataframe\">\n",
       "  <thead>\n",
       "    <tr style=\"text-align: right;\">\n",
       "      <th></th>\n",
       "      <th>match_code</th>\n",
       "      <th>inning</th>\n",
       "      <th>total</th>\n",
       "    </tr>\n",
       "  </thead>\n",
       "  <tbody>\n",
       "    <tr>\n",
       "      <td>0</td>\n",
       "      <td>335982</td>\n",
       "      <td>1</td>\n",
       "      <td>222</td>\n",
       "    </tr>\n",
       "    <tr>\n",
       "      <td>2</td>\n",
       "      <td>335983</td>\n",
       "      <td>1</td>\n",
       "      <td>240</td>\n",
       "    </tr>\n",
       "    <tr>\n",
       "      <td>14</td>\n",
       "      <td>335989</td>\n",
       "      <td>1</td>\n",
       "      <td>208</td>\n",
       "    </tr>\n",
       "    <tr>\n",
       "      <td>16</td>\n",
       "      <td>335990</td>\n",
       "      <td>1</td>\n",
       "      <td>214</td>\n",
       "    </tr>\n",
       "    <tr>\n",
       "      <td>64</td>\n",
       "      <td>336014</td>\n",
       "      <td>1</td>\n",
       "      <td>204</td>\n",
       "    </tr>\n",
       "  </tbody>\n",
       "</table>\n",
       "</div>"
      ],
      "text/plain": [
       "    match_code  inning  total\n",
       "0       335982       1    222\n",
       "2       335983       1    240\n",
       "14      335989       1    208\n",
       "16      335990       1    214\n",
       "64      336014       1    204"
      ]
     },
     "execution_count": 123,
     "metadata": {},
     "output_type": "execute_result"
    }
   ],
   "source": [
    "inning1.head()"
   ]
  },
  {
   "cell_type": "code",
   "execution_count": 124,
   "metadata": {},
   "outputs": [],
   "source": [
    "inning2 = runs_df[(runs_df[\"inning\"] == 2)]"
   ]
  },
  {
   "cell_type": "code",
   "execution_count": 125,
   "metadata": {},
   "outputs": [
    {
     "data": {
      "text/html": [
       "<div>\n",
       "<style scoped>\n",
       "    .dataframe tbody tr th:only-of-type {\n",
       "        vertical-align: middle;\n",
       "    }\n",
       "\n",
       "    .dataframe tbody tr th {\n",
       "        vertical-align: top;\n",
       "    }\n",
       "\n",
       "    .dataframe thead th {\n",
       "        text-align: right;\n",
       "    }\n",
       "</style>\n",
       "<table border=\"1\" class=\"dataframe\">\n",
       "  <thead>\n",
       "    <tr style=\"text-align: right;\">\n",
       "      <th></th>\n",
       "      <th>match_code</th>\n",
       "      <th>inning</th>\n",
       "      <th>total</th>\n",
       "    </tr>\n",
       "  </thead>\n",
       "  <tbody>\n",
       "    <tr>\n",
       "      <td>1</td>\n",
       "      <td>335982</td>\n",
       "      <td>2</td>\n",
       "      <td>82</td>\n",
       "    </tr>\n",
       "    <tr>\n",
       "      <td>3</td>\n",
       "      <td>335983</td>\n",
       "      <td>2</td>\n",
       "      <td>207</td>\n",
       "    </tr>\n",
       "    <tr>\n",
       "      <td>5</td>\n",
       "      <td>335984</td>\n",
       "      <td>2</td>\n",
       "      <td>132</td>\n",
       "    </tr>\n",
       "    <tr>\n",
       "      <td>7</td>\n",
       "      <td>335985</td>\n",
       "      <td>2</td>\n",
       "      <td>166</td>\n",
       "    </tr>\n",
       "    <tr>\n",
       "      <td>9</td>\n",
       "      <td>335986</td>\n",
       "      <td>2</td>\n",
       "      <td>112</td>\n",
       "    </tr>\n",
       "  </tbody>\n",
       "</table>\n",
       "</div>"
      ],
      "text/plain": [
       "   match_code  inning  total\n",
       "1      335982       2     82\n",
       "3      335983       2    207\n",
       "5      335984       2    132\n",
       "7      335985       2    166\n",
       "9      335986       2    112"
      ]
     },
     "execution_count": 125,
     "metadata": {},
     "output_type": "execute_result"
    }
   ],
   "source": [
    "inning2.head()"
   ]
  },
  {
   "cell_type": "code",
   "execution_count": 126,
   "metadata": {},
   "outputs": [],
   "source": [
    "final_df = pd.merge(inning1,inning2,on=\"match_code\")"
   ]
  },
  {
   "cell_type": "code",
   "execution_count": 127,
   "metadata": {},
   "outputs": [
    {
     "data": {
      "text/html": [
       "<div>\n",
       "<style scoped>\n",
       "    .dataframe tbody tr th:only-of-type {\n",
       "        vertical-align: middle;\n",
       "    }\n",
       "\n",
       "    .dataframe tbody tr th {\n",
       "        vertical-align: top;\n",
       "    }\n",
       "\n",
       "    .dataframe thead th {\n",
       "        text-align: right;\n",
       "    }\n",
       "</style>\n",
       "<table border=\"1\" class=\"dataframe\">\n",
       "  <thead>\n",
       "    <tr style=\"text-align: right;\">\n",
       "      <th></th>\n",
       "      <th>match_code</th>\n",
       "      <th>inning_x</th>\n",
       "      <th>total_x</th>\n",
       "      <th>inning_y</th>\n",
       "      <th>total_y</th>\n",
       "    </tr>\n",
       "  </thead>\n",
       "  <tbody>\n",
       "    <tr>\n",
       "      <td>0</td>\n",
       "      <td>335982</td>\n",
       "      <td>1</td>\n",
       "      <td>222</td>\n",
       "      <td>2</td>\n",
       "      <td>82</td>\n",
       "    </tr>\n",
       "    <tr>\n",
       "      <td>1</td>\n",
       "      <td>335983</td>\n",
       "      <td>1</td>\n",
       "      <td>240</td>\n",
       "      <td>2</td>\n",
       "      <td>207</td>\n",
       "    </tr>\n",
       "    <tr>\n",
       "      <td>2</td>\n",
       "      <td>335989</td>\n",
       "      <td>1</td>\n",
       "      <td>208</td>\n",
       "      <td>2</td>\n",
       "      <td>202</td>\n",
       "    </tr>\n",
       "    <tr>\n",
       "      <td>3</td>\n",
       "      <td>335990</td>\n",
       "      <td>1</td>\n",
       "      <td>214</td>\n",
       "      <td>2</td>\n",
       "      <td>217</td>\n",
       "    </tr>\n",
       "    <tr>\n",
       "      <td>4</td>\n",
       "      <td>336014</td>\n",
       "      <td>1</td>\n",
       "      <td>204</td>\n",
       "      <td>2</td>\n",
       "      <td>181</td>\n",
       "    </tr>\n",
       "  </tbody>\n",
       "</table>\n",
       "</div>"
      ],
      "text/plain": [
       "   match_code  inning_x  total_x  inning_y  total_y\n",
       "0      335982         1      222         2       82\n",
       "1      335983         1      240         2      207\n",
       "2      335989         1      208         2      202\n",
       "3      335990         1      214         2      217\n",
       "4      336014         1      204         2      181"
      ]
     },
     "execution_count": 127,
     "metadata": {},
     "output_type": "execute_result"
    }
   ],
   "source": [
    "final_df.head()"
   ]
  },
  {
   "cell_type": "code",
   "execution_count": 128,
   "metadata": {},
   "outputs": [],
   "source": [
    "winners = final_df[(final_df[\"total_y\"] - final_df[\"total_x\"]) > 0]"
   ]
  },
  {
   "cell_type": "code",
   "execution_count": 129,
   "metadata": {},
   "outputs": [
    {
     "data": {
      "text/html": [
       "<div>\n",
       "<style scoped>\n",
       "    .dataframe tbody tr th:only-of-type {\n",
       "        vertical-align: middle;\n",
       "    }\n",
       "\n",
       "    .dataframe tbody tr th {\n",
       "        vertical-align: top;\n",
       "    }\n",
       "\n",
       "    .dataframe thead th {\n",
       "        text-align: right;\n",
       "    }\n",
       "</style>\n",
       "<table border=\"1\" class=\"dataframe\">\n",
       "  <thead>\n",
       "    <tr style=\"text-align: right;\">\n",
       "      <th></th>\n",
       "      <th>match_code</th>\n",
       "      <th>inning_x</th>\n",
       "      <th>total_x</th>\n",
       "      <th>inning_y</th>\n",
       "      <th>total_y</th>\n",
       "    </tr>\n",
       "  </thead>\n",
       "  <tbody>\n",
       "    <tr>\n",
       "      <td>3</td>\n",
       "      <td>335990</td>\n",
       "      <td>1</td>\n",
       "      <td>214</td>\n",
       "      <td>2</td>\n",
       "      <td>217</td>\n",
       "    </tr>\n",
       "    <tr>\n",
       "      <td>9</td>\n",
       "      <td>419112</td>\n",
       "      <td>1</td>\n",
       "      <td>203</td>\n",
       "      <td>2</td>\n",
       "      <td>204</td>\n",
       "    </tr>\n",
       "    <tr>\n",
       "      <td>12</td>\n",
       "      <td>419139</td>\n",
       "      <td>1</td>\n",
       "      <td>200</td>\n",
       "      <td>2</td>\n",
       "      <td>204</td>\n",
       "    </tr>\n",
       "    <tr>\n",
       "      <td>17</td>\n",
       "      <td>548318</td>\n",
       "      <td>1</td>\n",
       "      <td>205</td>\n",
       "      <td>2</td>\n",
       "      <td>208</td>\n",
       "    </tr>\n",
       "    <tr>\n",
       "      <td>25</td>\n",
       "      <td>729283</td>\n",
       "      <td>1</td>\n",
       "      <td>205</td>\n",
       "      <td>2</td>\n",
       "      <td>206</td>\n",
       "    </tr>\n",
       "    <tr>\n",
       "      <td>27</td>\n",
       "      <td>734007</td>\n",
       "      <td>1</td>\n",
       "      <td>205</td>\n",
       "      <td>2</td>\n",
       "      <td>211</td>\n",
       "    </tr>\n",
       "  </tbody>\n",
       "</table>\n",
       "</div>"
      ],
      "text/plain": [
       "    match_code  inning_x  total_x  inning_y  total_y\n",
       "3       335990         1      214         2      217\n",
       "9       419112         1      203         2      204\n",
       "12      419139         1      200         2      204\n",
       "17      548318         1      205         2      208\n",
       "25      729283         1      205         2      206\n",
       "27      734007         1      205         2      211"
      ]
     },
     "execution_count": 129,
     "metadata": {},
     "output_type": "execute_result"
    }
   ],
   "source": [
    "winners"
   ]
  },
  {
   "cell_type": "code",
   "execution_count": 130,
   "metadata": {},
   "outputs": [],
   "source": [
    "probability = len(winners)/len(final_df)"
   ]
  },
  {
   "cell_type": "code",
   "execution_count": null,
   "metadata": {},
   "outputs": [],
   "source": [
    "win_probability = probability *100\n",
    "loose_probability = 100 - win_probability "
   ]
  },
  {
   "cell_type": "code",
   "execution_count": 168,
   "metadata": {},
   "outputs": [
    {
     "data": {
      "image/png": "[encoded data removed]",
      "text/plain": [
       "<Figure size 576x576 with 1 Axes>"
      ]
     },
     "metadata": {},
     "output_type": "display_data"
    }
   ],
   "source": [
    "plt.figure(figsize=(8,8))\n",
    "plt.pie([win_probability,loose_probability], shadow=True,autopct=\"%1.1f%%\",explode=(0,0.1),colors=[\"grey\",\"#ccc\"])\n",
    "plt.show()"
   ]
  },
  {
   "cell_type": "markdown",
   "metadata": {},
   "source": [
    "### Plot top 5 teams with highest win counts across all seasons"
   ]
  },
  {
   "cell_type": "code",
   "execution_count": 192,
   "metadata": {},
   "outputs": [
    {
     "data": {
      "image/png": "[encoded data removed]",
      "text/plain": [
       "<Figure size 720x360 with 1 Axes>"
      ]
     },
     "metadata": {},
     "output_type": "display_data"
    }
   ],
   "source": [
    "wins = []\n",
    "for team in teams:\n",
    "    wins.append(len(df_ipl[df_ipl[\"winner\"] == team].groupby(\"match_code\")))\n",
    "\n",
    "    \n",
    "team_wins = pd.DataFrame({\"team\":teams,\"wins\":wins}).sort_values(by=\"wins\",ascending=False)\n",
    "\n",
    "\n",
    "plot = sns.catplot(data=team_wins, y=\"team\",x=\"wins\",kind=\"bar\",color=\"grey\")\n",
    "plot.fig.set_figheight(5)\n",
    "plot.fig.set_figwidth(10)"
   ]
  },
  {
   "cell_type": "markdown",
   "metadata": {},
   "source": [
    "### Plot the top 5 run scorers across all seasons"
   ]
  },
  {
   "cell_type": "code",
   "execution_count": 173,
   "metadata": {},
   "outputs": [
    {
     "data": {
      "image/png": "[encoded data removed]",
      "text/plain": [
       "<Figure size 432x216 with 1 Axes>"
      ]
     },
     "metadata": {},
     "output_type": "display_data"
    }
   ],
   "source": [
    "batsman_runs = df_ipl.groupby([\"batsman\"])[\"runs\"].sum().sort_values(ascending=False).reset_index().head()\n",
    "\n",
    "plot = sns.catplot(data=batsman_runs, y=\"batsman\",x=\"runs\",kind=\"bar\",color=\"grey\")\n",
    "plot.fig.set_figheight(3)\n",
    "plot.fig.set_figwidth(6)"
   ]
  },
  {
   "cell_type": "markdown",
   "metadata": {},
   "source": [
    "### Plot the top 5 wicket takers across all seasons"
   ]
  },
  {
   "cell_type": "code",
   "execution_count": 55,
   "metadata": {},
   "outputs": [],
   "source": [
    "wickets_delivery = df_ipl[df_ipl[\"wicket_kind\"].notnull()]"
   ]
  },
  {
   "cell_type": "code",
   "execution_count": 56,
   "metadata": {},
   "outputs": [
    {
     "data": {
      "text/plain": [
       "['caught',\n",
       " 'bowled',\n",
       " 'run out',\n",
       " 'lbw',\n",
       " 'stumped',\n",
       " 'caught and bowled',\n",
       " 'obstructing the field',\n",
       " 'hit wicket',\n",
       " 'retired hurt']"
      ]
     },
     "execution_count": 56,
     "metadata": {},
     "output_type": "execute_result"
    }
   ],
   "source": [
    "wickets_delivery[\"wicket_kind\"].unique().tolist()"
   ]
  },
  {
   "cell_type": "code",
   "execution_count": 58,
   "metadata": {},
   "outputs": [],
   "source": [
    "remove_list = [\"retired hurt\",\"obstructing the field\",\"run out\"]"
   ]
  },
  {
   "cell_type": "code",
   "execution_count": 59,
   "metadata": {},
   "outputs": [],
   "source": [
    "wickets_delivery = wickets_delivery[~wickets_delivery[\"wicket_kind\"].isin(remove_list)]"
   ]
  },
  {
   "cell_type": "code",
   "execution_count": 62,
   "metadata": {},
   "outputs": [],
   "source": [
    "bowler_wickets = wickets_delivery.groupby(\"bowler\").size().sort_values(ascending=False).reset_index().head()\n",
    "bowler_wickets.columns = [\"bowler\",\"wickets\"]"
   ]
  },
  {
   "cell_type": "code",
   "execution_count": 175,
   "metadata": {},
   "outputs": [
    {
     "data": {
      "image/png": "[encoded data removed]",
      "text/plain": [
       "<Figure size 432x216 with 1 Axes>"
      ]
     },
     "metadata": {},
     "output_type": "display_data"
    }
   ],
   "source": [
    "plot = sns.catplot(data=bowler_wickets, y=\"bowler\",x=\"wickets\",kind=\"bar\",color=\"grey\")\n",
    "plot.fig.set_figheight(3)\n",
    "plot.fig.set_figwidth(6)"
   ]
  }
 ],
 "metadata": {
  "kernelspec": {
   "display_name": "Python 3",
   "language": "python",
   "name": "python3"
  },
  "language_info": {
   "codemirror_mode": {
    "name": "ipython",
    "version": 3
   },
   "file_extension": ".py",
   "mimetype": "text/x-python",
   "name": "python",
   "nbconvert_exporter": "python",
   "pygments_lexer": "ipython3",
   "version": "3.7.4"
  }
 },
 "nbformat": 4,
 "nbformat_minor": 2
}
